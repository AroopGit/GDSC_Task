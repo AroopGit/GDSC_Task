{
  "nbformat": 4,
  "nbformat_minor": 0,
  "metadata": {
    "colab": {
      "provenance": [],
      "mount_file_id": "16Akj-cUSVOOY84UME5YKdZUbFgbwsQ4D",
      "authorship_tag": "ABX9TyNvMyWCz5lL5TsUM8zbzLcp",
      "include_colab_link": true
    },
    "kernelspec": {
      "name": "python3",
      "display_name": "Python 3"
    },
    "language_info": {
      "name": "python"
    }
  },
  "cells": [
    {
      "cell_type": "markdown",
      "metadata": {
        "id": "view-in-github",
        "colab_type": "text"
      },
      "source": [
        "<a href=\"https://colab.research.google.com/github/AroopGit/GDSC_Task/blob/main/Boston_Housing_Reg.ipynb\" target=\"_parent\"><img src=\"https://colab.research.google.com/assets/colab-badge.svg\" alt=\"Open In Colab\"/></a>"
      ]
    },
    {
      "cell_type": "code",
      "execution_count": null,
      "metadata": {
        "id": "ApXBSRoVWnUC"
      },
      "outputs": [],
      "source": [
        "import pandas as pd\n",
        "import numpy as np\n",
        "import tensorflow as tf\n",
        "import matplotlib.pyplot as plt\n",
        "\n"
      ]
    },
    {
      "cell_type": "code",
      "source": [
        "df=pd.read_csv(\"/content/drive/MyDrive/Data/housing.csv\")"
      ],
      "metadata": {
        "id": "G4w0BJdDW21O"
      },
      "execution_count": null,
      "outputs": []
    },
    {
      "cell_type": "code",
      "source": [
        "df.head()"
      ],
      "metadata": {
        "colab": {
          "base_uri": "https://localhost:8080/",
          "height": 206
        },
        "id": "Y4_hSv_8XazG",
        "outputId": "f2f1cf8e-406c-4c64-8ad9-164e30435b85"
      },
      "execution_count": null,
      "outputs": [
        {
          "output_type": "execute_result",
          "data": {
            "text/plain": [
              "      RM  LSTAT  PTRATIO      MEDV\n",
              "0  6.575   4.98     15.3  504000.0\n",
              "1  6.421   9.14     17.8  453600.0\n",
              "2  7.185   4.03     17.8  728700.0\n",
              "3  6.998   2.94     18.7  701400.0\n",
              "4  7.147   5.33     18.7  760200.0"
            ],
            "text/html": [
              "\n",
              "  <div id=\"df-572e6361-3c63-47d5-bc9d-5356b98625f1\" class=\"colab-df-container\">\n",
              "    <div>\n",
              "<style scoped>\n",
              "    .dataframe tbody tr th:only-of-type {\n",
              "        vertical-align: middle;\n",
              "    }\n",
              "\n",
              "    .dataframe tbody tr th {\n",
              "        vertical-align: top;\n",
              "    }\n",
              "\n",
              "    .dataframe thead th {\n",
              "        text-align: right;\n",
              "    }\n",
              "</style>\n",
              "<table border=\"1\" class=\"dataframe\">\n",
              "  <thead>\n",
              "    <tr style=\"text-align: right;\">\n",
              "      <th></th>\n",
              "      <th>RM</th>\n",
              "      <th>LSTAT</th>\n",
              "      <th>PTRATIO</th>\n",
              "      <th>MEDV</th>\n",
              "    </tr>\n",
              "  </thead>\n",
              "  <tbody>\n",
              "    <tr>\n",
              "      <th>0</th>\n",
              "      <td>6.575</td>\n",
              "      <td>4.98</td>\n",
              "      <td>15.3</td>\n",
              "      <td>504000.0</td>\n",
              "    </tr>\n",
              "    <tr>\n",
              "      <th>1</th>\n",
              "      <td>6.421</td>\n",
              "      <td>9.14</td>\n",
              "      <td>17.8</td>\n",
              "      <td>453600.0</td>\n",
              "    </tr>\n",
              "    <tr>\n",
              "      <th>2</th>\n",
              "      <td>7.185</td>\n",
              "      <td>4.03</td>\n",
              "      <td>17.8</td>\n",
              "      <td>728700.0</td>\n",
              "    </tr>\n",
              "    <tr>\n",
              "      <th>3</th>\n",
              "      <td>6.998</td>\n",
              "      <td>2.94</td>\n",
              "      <td>18.7</td>\n",
              "      <td>701400.0</td>\n",
              "    </tr>\n",
              "    <tr>\n",
              "      <th>4</th>\n",
              "      <td>7.147</td>\n",
              "      <td>5.33</td>\n",
              "      <td>18.7</td>\n",
              "      <td>760200.0</td>\n",
              "    </tr>\n",
              "  </tbody>\n",
              "</table>\n",
              "</div>\n",
              "    <div class=\"colab-df-buttons\">\n",
              "\n",
              "  <div class=\"colab-df-container\">\n",
              "    <button class=\"colab-df-convert\" onclick=\"convertToInteractive('df-572e6361-3c63-47d5-bc9d-5356b98625f1')\"\n",
              "            title=\"Convert this dataframe to an interactive table.\"\n",
              "            style=\"display:none;\">\n",
              "\n",
              "  <svg xmlns=\"http://www.w3.org/2000/svg\" height=\"24px\" viewBox=\"0 -960 960 960\">\n",
              "    <path d=\"M120-120v-720h720v720H120Zm60-500h600v-160H180v160Zm220 220h160v-160H400v160Zm0 220h160v-160H400v160ZM180-400h160v-160H180v160Zm440 0h160v-160H620v160ZM180-180h160v-160H180v160Zm440 0h160v-160H620v160Z\"/>\n",
              "  </svg>\n",
              "    </button>\n",
              "\n",
              "  <style>\n",
              "    .colab-df-container {\n",
              "      display:flex;\n",
              "      gap: 12px;\n",
              "    }\n",
              "\n",
              "    .colab-df-convert {\n",
              "      background-color: #E8F0FE;\n",
              "      border: none;\n",
              "      border-radius: 50%;\n",
              "      cursor: pointer;\n",
              "      display: none;\n",
              "      fill: #1967D2;\n",
              "      height: 32px;\n",
              "      padding: 0 0 0 0;\n",
              "      width: 32px;\n",
              "    }\n",
              "\n",
              "    .colab-df-convert:hover {\n",
              "      background-color: #E2EBFA;\n",
              "      box-shadow: 0px 1px 2px rgba(60, 64, 67, 0.3), 0px 1px 3px 1px rgba(60, 64, 67, 0.15);\n",
              "      fill: #174EA6;\n",
              "    }\n",
              "\n",
              "    .colab-df-buttons div {\n",
              "      margin-bottom: 4px;\n",
              "    }\n",
              "\n",
              "    [theme=dark] .colab-df-convert {\n",
              "      background-color: #3B4455;\n",
              "      fill: #D2E3FC;\n",
              "    }\n",
              "\n",
              "    [theme=dark] .colab-df-convert:hover {\n",
              "      background-color: #434B5C;\n",
              "      box-shadow: 0px 1px 3px 1px rgba(0, 0, 0, 0.15);\n",
              "      filter: drop-shadow(0px 1px 2px rgba(0, 0, 0, 0.3));\n",
              "      fill: #FFFFFF;\n",
              "    }\n",
              "  </style>\n",
              "\n",
              "    <script>\n",
              "      const buttonEl =\n",
              "        document.querySelector('#df-572e6361-3c63-47d5-bc9d-5356b98625f1 button.colab-df-convert');\n",
              "      buttonEl.style.display =\n",
              "        google.colab.kernel.accessAllowed ? 'block' : 'none';\n",
              "\n",
              "      async function convertToInteractive(key) {\n",
              "        const element = document.querySelector('#df-572e6361-3c63-47d5-bc9d-5356b98625f1');\n",
              "        const dataTable =\n",
              "          await google.colab.kernel.invokeFunction('convertToInteractive',\n",
              "                                                    [key], {});\n",
              "        if (!dataTable) return;\n",
              "\n",
              "        const docLinkHtml = 'Like what you see? Visit the ' +\n",
              "          '<a target=\"_blank\" href=https://colab.research.google.com/notebooks/data_table.ipynb>data table notebook</a>'\n",
              "          + ' to learn more about interactive tables.';\n",
              "        element.innerHTML = '';\n",
              "        dataTable['output_type'] = 'display_data';\n",
              "        await google.colab.output.renderOutput(dataTable, element);\n",
              "        const docLink = document.createElement('div');\n",
              "        docLink.innerHTML = docLinkHtml;\n",
              "        element.appendChild(docLink);\n",
              "      }\n",
              "    </script>\n",
              "  </div>\n",
              "\n",
              "\n",
              "<div id=\"df-1bac8cef-d2de-41cc-966f-273797f7c821\">\n",
              "  <button class=\"colab-df-quickchart\" onclick=\"quickchart('df-1bac8cef-d2de-41cc-966f-273797f7c821')\"\n",
              "            title=\"Suggest charts.\"\n",
              "            style=\"display:none;\">\n",
              "\n",
              "<svg xmlns=\"http://www.w3.org/2000/svg\" height=\"24px\"viewBox=\"0 0 24 24\"\n",
              "     width=\"24px\">\n",
              "    <g>\n",
              "        <path d=\"M19 3H5c-1.1 0-2 .9-2 2v14c0 1.1.9 2 2 2h14c1.1 0 2-.9 2-2V5c0-1.1-.9-2-2-2zM9 17H7v-7h2v7zm4 0h-2V7h2v10zm4 0h-2v-4h2v4z\"/>\n",
              "    </g>\n",
              "</svg>\n",
              "  </button>\n",
              "\n",
              "<style>\n",
              "  .colab-df-quickchart {\n",
              "      --bg-color: #E8F0FE;\n",
              "      --fill-color: #1967D2;\n",
              "      --hover-bg-color: #E2EBFA;\n",
              "      --hover-fill-color: #174EA6;\n",
              "      --disabled-fill-color: #AAA;\n",
              "      --disabled-bg-color: #DDD;\n",
              "  }\n",
              "\n",
              "  [theme=dark] .colab-df-quickchart {\n",
              "      --bg-color: #3B4455;\n",
              "      --fill-color: #D2E3FC;\n",
              "      --hover-bg-color: #434B5C;\n",
              "      --hover-fill-color: #FFFFFF;\n",
              "      --disabled-bg-color: #3B4455;\n",
              "      --disabled-fill-color: #666;\n",
              "  }\n",
              "\n",
              "  .colab-df-quickchart {\n",
              "    background-color: var(--bg-color);\n",
              "    border: none;\n",
              "    border-radius: 50%;\n",
              "    cursor: pointer;\n",
              "    display: none;\n",
              "    fill: var(--fill-color);\n",
              "    height: 32px;\n",
              "    padding: 0;\n",
              "    width: 32px;\n",
              "  }\n",
              "\n",
              "  .colab-df-quickchart:hover {\n",
              "    background-color: var(--hover-bg-color);\n",
              "    box-shadow: 0 1px 2px rgba(60, 64, 67, 0.3), 0 1px 3px 1px rgba(60, 64, 67, 0.15);\n",
              "    fill: var(--button-hover-fill-color);\n",
              "  }\n",
              "\n",
              "  .colab-df-quickchart-complete:disabled,\n",
              "  .colab-df-quickchart-complete:disabled:hover {\n",
              "    background-color: var(--disabled-bg-color);\n",
              "    fill: var(--disabled-fill-color);\n",
              "    box-shadow: none;\n",
              "  }\n",
              "\n",
              "  .colab-df-spinner {\n",
              "    border: 2px solid var(--fill-color);\n",
              "    border-color: transparent;\n",
              "    border-bottom-color: var(--fill-color);\n",
              "    animation:\n",
              "      spin 1s steps(1) infinite;\n",
              "  }\n",
              "\n",
              "  @keyframes spin {\n",
              "    0% {\n",
              "      border-color: transparent;\n",
              "      border-bottom-color: var(--fill-color);\n",
              "      border-left-color: var(--fill-color);\n",
              "    }\n",
              "    20% {\n",
              "      border-color: transparent;\n",
              "      border-left-color: var(--fill-color);\n",
              "      border-top-color: var(--fill-color);\n",
              "    }\n",
              "    30% {\n",
              "      border-color: transparent;\n",
              "      border-left-color: var(--fill-color);\n",
              "      border-top-color: var(--fill-color);\n",
              "      border-right-color: var(--fill-color);\n",
              "    }\n",
              "    40% {\n",
              "      border-color: transparent;\n",
              "      border-right-color: var(--fill-color);\n",
              "      border-top-color: var(--fill-color);\n",
              "    }\n",
              "    60% {\n",
              "      border-color: transparent;\n",
              "      border-right-color: var(--fill-color);\n",
              "    }\n",
              "    80% {\n",
              "      border-color: transparent;\n",
              "      border-right-color: var(--fill-color);\n",
              "      border-bottom-color: var(--fill-color);\n",
              "    }\n",
              "    90% {\n",
              "      border-color: transparent;\n",
              "      border-bottom-color: var(--fill-color);\n",
              "    }\n",
              "  }\n",
              "</style>\n",
              "\n",
              "  <script>\n",
              "    async function quickchart(key) {\n",
              "      const quickchartButtonEl =\n",
              "        document.querySelector('#' + key + ' button');\n",
              "      quickchartButtonEl.disabled = true;  // To prevent multiple clicks.\n",
              "      quickchartButtonEl.classList.add('colab-df-spinner');\n",
              "      try {\n",
              "        const charts = await google.colab.kernel.invokeFunction(\n",
              "            'suggestCharts', [key], {});\n",
              "      } catch (error) {\n",
              "        console.error('Error during call to suggestCharts:', error);\n",
              "      }\n",
              "      quickchartButtonEl.classList.remove('colab-df-spinner');\n",
              "      quickchartButtonEl.classList.add('colab-df-quickchart-complete');\n",
              "    }\n",
              "    (() => {\n",
              "      let quickchartButtonEl =\n",
              "        document.querySelector('#df-1bac8cef-d2de-41cc-966f-273797f7c821 button');\n",
              "      quickchartButtonEl.style.display =\n",
              "        google.colab.kernel.accessAllowed ? 'block' : 'none';\n",
              "    })();\n",
              "  </script>\n",
              "</div>\n",
              "    </div>\n",
              "  </div>\n"
            ]
          },
          "metadata": {},
          "execution_count": 5
        }
      ]
    },
    {
      "cell_type": "code",
      "source": [
        "df.shape"
      ],
      "metadata": {
        "colab": {
          "base_uri": "https://localhost:8080/"
        },
        "id": "jZl1e2RqXdFT",
        "outputId": "1894f84c-bbd7-4ac4-de4a-aa97ba6b1d75"
      },
      "execution_count": null,
      "outputs": [
        {
          "output_type": "execute_result",
          "data": {
            "text/plain": [
              "(489, 4)"
            ]
          },
          "metadata": {},
          "execution_count": 6
        }
      ]
    },
    {
      "cell_type": "code",
      "source": [
        "\n",
        "X=df.drop(\"MEDV\", axis=1)\n",
        "y=df['MEDV']"
      ],
      "metadata": {
        "id": "ovnK51RvXylW"
      },
      "execution_count": null,
      "outputs": []
    },
    {
      "cell_type": "code",
      "source": [
        "\n",
        "from sklearn.model_selection import train_test_split\n",
        "X_train, X_test, y_train, y_test= train_test_split(X, y, test_size=0.2, random_state=42)\n",
        "#rando state for reproducible splits"
      ],
      "metadata": {
        "id": "A_aDQCcsYJSL"
      },
      "execution_count": null,
      "outputs": []
    },
    {
      "cell_type": "code",
      "source": [
        "len(X_train), len(X_test), len(X), len(y_test), len(y_train), len(y)"
      ],
      "metadata": {
        "colab": {
          "base_uri": "https://localhost:8080/"
        },
        "id": "TnfBxzJxYRUx",
        "outputId": "b964e06d-7fb3-4e5b-96f0-213bff2d4d6d"
      },
      "execution_count": null,
      "outputs": [
        {
          "output_type": "execute_result",
          "data": {
            "text/plain": [
              "(391, 98, 489, 98, 391, 489)"
            ]
          },
          "metadata": {},
          "execution_count": 9
        }
      ]
    },
    {
      "cell_type": "code",
      "source": [
        "# Set random seed\n",
        "tf.random.set_seed(42)\n",
        "\n",
        "\n",
        "# Create a new model\n",
        "df = tf.keras.Sequential([\n",
        "  tf.keras.layers.Dense(10)\n",
        "\n",
        "])\n",
        "\n",
        "# Compile the model\n",
        "df.compile(loss=tf.keras.losses.mae,\n",
        "                        optimizer=tf.keras.optimizers.SGD(),\n",
        "                        metrics=['mse', 'mae'])\n",
        "\n",
        "\n",
        "# Fit the model\n",
        "df.fit(X_train, y_train, epochs=10)"
      ],
      "metadata": {
        "colab": {
          "base_uri": "https://localhost:8080/"
        },
        "id": "JLHFXKIMYURC",
        "outputId": "ceefab69-1112-428e-c173-aaa355be9070"
      },
      "execution_count": null,
      "outputs": [
        {
          "output_type": "stream",
          "name": "stdout",
          "text": [
            "Epoch 1/10\n",
            "13/13 [==============================] - 1s 3ms/step - loss: 461749.3125 - mse: 241549131776.0000 - mae: 461749.3125\n",
            "Epoch 2/10\n",
            "13/13 [==============================] - 0s 3ms/step - loss: 461742.2812 - mse: 241542987776.0000 - mae: 461742.2812\n",
            "Epoch 3/10\n",
            "13/13 [==============================] - 0s 3ms/step - loss: 461735.1875 - mse: 241536778240.0000 - mae: 461735.1875\n",
            "Epoch 4/10\n",
            "13/13 [==============================] - 0s 3ms/step - loss: 461728.0938 - mse: 241530699776.0000 - mae: 461728.0938\n",
            "Epoch 5/10\n",
            "13/13 [==============================] - 0s 3ms/step - loss: 461721.0312 - mse: 241524473856.0000 - mae: 461721.0312\n",
            "Epoch 6/10\n",
            "13/13 [==============================] - 0s 2ms/step - loss: 461713.9375 - mse: 241518379008.0000 - mae: 461713.9375\n",
            "Epoch 7/10\n",
            "13/13 [==============================] - 0s 2ms/step - loss: 461706.8750 - mse: 241512202240.0000 - mae: 461706.8750\n",
            "Epoch 8/10\n",
            "13/13 [==============================] - 0s 2ms/step - loss: 461699.7500 - mse: 241506091008.0000 - mae: 461699.7500\n",
            "Epoch 9/10\n",
            "13/13 [==============================] - 0s 2ms/step - loss: 461692.7188 - mse: 241499865088.0000 - mae: 461692.7188\n",
            "Epoch 10/10\n",
            "13/13 [==============================] - 0s 2ms/step - loss: 461685.5938 - mse: 241493671936.0000 - mae: 461685.5938\n"
          ]
        },
        {
          "output_type": "execute_result",
          "data": {
            "text/plain": [
              "<keras.callbacks.History at 0x7e2843594e20>"
            ]
          },
          "metadata": {},
          "execution_count": 15
        }
      ]
    },
    {
      "cell_type": "code",
      "source": [
        "# Check the results of the model\n",
        "df.evaluate(X_test, y_test)"
      ],
      "metadata": {
        "colab": {
          "base_uri": "https://localhost:8080/"
        },
        "id": "27FoEDEQYXEI",
        "outputId": "b8eddaca-8bef-499d-ecc6-3521bd87f5c3"
      },
      "execution_count": null,
      "outputs": [
        {
          "output_type": "stream",
          "name": "stdout",
          "text": [
            "4/4 [==============================] - 0s 4ms/step - loss: 424678.6562 - mse: 202332684288.0000 - mae: 424678.6562\n"
          ]
        },
        {
          "output_type": "execute_result",
          "data": {
            "text/plain": [
              "[424678.65625, 202332684288.0, 424678.65625]"
            ]
          },
          "metadata": {},
          "execution_count": 16
        }
      ]
    },
    {
      "cell_type": "code",
      "source": [
        "# Set random seed\n",
        "tf.random.set_seed(42)\n",
        "\n",
        "# Create a new model\n",
        "df = tf.keras.Sequential([\n",
        "  tf.keras.layers.Dense(10),\n",
        "  tf.keras.layers.Dense(1)\n",
        "])\n",
        "\n",
        "# Compile the model\n",
        "df.compile(loss=tf.keras.losses.mae,\n",
        "                        optimizer=tf.keras.optimizers.SGD(),\n",
        "                        metrics=['mse', 'mae'])\n",
        "\n",
        "# Fit the model\n",
        "df.fit(X_train, y_train, epochs=100)"
      ],
      "metadata": {
        "colab": {
          "base_uri": "https://localhost:8080/"
        },
        "id": "k_o-HFu6Z5Y2",
        "outputId": "16e135b6-df68-4536-874c-28968d4f0577"
      },
      "execution_count": null,
      "outputs": [
        {
          "output_type": "stream",
          "name": "stdout",
          "text": [
            "Epoch 1/100\n",
            "13/13 [==============================] - 0s 3ms/step - loss: 461314.3750 - mse: 241176133632.0000 - mae: 461314.3750\n",
            "Epoch 2/100\n",
            "13/13 [==============================] - 0s 2ms/step - loss: 380491.0000 - mse: 182046638080.0000 - mae: 380491.0000\n",
            "Epoch 3/100\n",
            "13/13 [==============================] - 0s 2ms/step - loss: 172726.2188 - mse: 49940115456.0000 - mae: 172726.2188\n",
            "Epoch 4/100\n",
            "13/13 [==============================] - 0s 2ms/step - loss: 141011.8594 - mse: 35109191680.0000 - mae: 141011.8594\n",
            "Epoch 5/100\n",
            "13/13 [==============================] - 0s 2ms/step - loss: 119968.0234 - mse: 26030761984.0000 - mae: 119968.0234\n",
            "Epoch 6/100\n",
            "13/13 [==============================] - 0s 2ms/step - loss: 117444.4688 - mse: 23942242304.0000 - mae: 117444.4688\n",
            "Epoch 7/100\n",
            "13/13 [==============================] - 0s 2ms/step - loss: 111660.7812 - mse: 22187651072.0000 - mae: 111660.7812\n",
            "Epoch 8/100\n",
            "13/13 [==============================] - 0s 2ms/step - loss: 121124.3047 - mse: 25610426368.0000 - mae: 121124.3047\n",
            "Epoch 9/100\n",
            "13/13 [==============================] - 0s 2ms/step - loss: 116999.8281 - mse: 23269441536.0000 - mae: 116999.8281\n",
            "Epoch 10/100\n",
            "13/13 [==============================] - 0s 2ms/step - loss: 116497.9844 - mse: 23282919424.0000 - mae: 116497.9844\n",
            "Epoch 11/100\n",
            "13/13 [==============================] - 0s 3ms/step - loss: 112749.1016 - mse: 21498316800.0000 - mae: 112749.1016\n",
            "Epoch 12/100\n",
            "13/13 [==============================] - 0s 3ms/step - loss: 108028.9141 - mse: 20614397952.0000 - mae: 108028.9141\n",
            "Epoch 13/100\n",
            "13/13 [==============================] - 0s 2ms/step - loss: 117732.6406 - mse: 22121435136.0000 - mae: 117732.6406\n",
            "Epoch 14/100\n",
            "13/13 [==============================] - 0s 2ms/step - loss: 108929.1484 - mse: 20429520896.0000 - mae: 108929.1484\n",
            "Epoch 15/100\n",
            "13/13 [==============================] - 0s 2ms/step - loss: 112902.8359 - mse: 21667741696.0000 - mae: 112902.8359\n",
            "Epoch 16/100\n",
            "13/13 [==============================] - 0s 2ms/step - loss: 99803.0391 - mse: 17647943680.0000 - mae: 99803.0391\n",
            "Epoch 17/100\n",
            "13/13 [==============================] - 0s 2ms/step - loss: 114523.8750 - mse: 21698631680.0000 - mae: 114523.8750\n",
            "Epoch 18/100\n",
            "13/13 [==============================] - 0s 2ms/step - loss: 106019.0469 - mse: 19145197568.0000 - mae: 106019.0469\n",
            "Epoch 19/100\n",
            "13/13 [==============================] - 0s 2ms/step - loss: 101034.6797 - mse: 17892151296.0000 - mae: 101034.6797\n",
            "Epoch 20/100\n",
            "13/13 [==============================] - 0s 2ms/step - loss: 104114.8047 - mse: 18420645888.0000 - mae: 104114.8047\n",
            "Epoch 21/100\n",
            "13/13 [==============================] - 0s 2ms/step - loss: 107031.9062 - mse: 18834706432.0000 - mae: 107031.9062\n",
            "Epoch 22/100\n",
            "13/13 [==============================] - 0s 2ms/step - loss: 107003.7734 - mse: 18994663424.0000 - mae: 107003.7734\n",
            "Epoch 23/100\n",
            "13/13 [==============================] - 0s 2ms/step - loss: 110590.4219 - mse: 20514689024.0000 - mae: 110590.4219\n",
            "Epoch 24/100\n",
            "13/13 [==============================] - 0s 2ms/step - loss: 103202.4766 - mse: 18312499200.0000 - mae: 103202.4766\n",
            "Epoch 25/100\n",
            "13/13 [==============================] - 0s 2ms/step - loss: 106646.9688 - mse: 19141244928.0000 - mae: 106646.9688\n",
            "Epoch 26/100\n",
            "13/13 [==============================] - 0s 2ms/step - loss: 91019.1953 - mse: 14535571456.0000 - mae: 91019.1953\n",
            "Epoch 27/100\n",
            "13/13 [==============================] - 0s 2ms/step - loss: 92641.7891 - mse: 14623758336.0000 - mae: 92641.7891\n",
            "Epoch 28/100\n",
            "13/13 [==============================] - 0s 2ms/step - loss: 105452.5078 - mse: 17490579456.0000 - mae: 105452.5078\n",
            "Epoch 29/100\n",
            "13/13 [==============================] - 0s 2ms/step - loss: 102678.4219 - mse: 17413478400.0000 - mae: 102678.4219\n",
            "Epoch 30/100\n",
            "13/13 [==============================] - 0s 2ms/step - loss: 98443.7969 - mse: 16619959296.0000 - mae: 98443.7969\n",
            "Epoch 31/100\n",
            "13/13 [==============================] - 0s 2ms/step - loss: 96602.2500 - mse: 15715932160.0000 - mae: 96602.2500\n",
            "Epoch 32/100\n",
            "13/13 [==============================] - 0s 3ms/step - loss: 98097.6953 - mse: 17061862400.0000 - mae: 98097.6953\n",
            "Epoch 33/100\n",
            "13/13 [==============================] - 0s 2ms/step - loss: 93775.8750 - mse: 15334211584.0000 - mae: 93775.8750\n",
            "Epoch 34/100\n",
            "13/13 [==============================] - 0s 2ms/step - loss: 113977.9453 - mse: 20481607680.0000 - mae: 113977.9453\n",
            "Epoch 35/100\n",
            "13/13 [==============================] - 0s 3ms/step - loss: 89071.7344 - mse: 13760241664.0000 - mae: 89071.7344\n",
            "Epoch 36/100\n",
            "13/13 [==============================] - 0s 2ms/step - loss: 114466.8828 - mse: 20650137600.0000 - mae: 114466.8828\n",
            "Epoch 37/100\n",
            "13/13 [==============================] - 0s 2ms/step - loss: 99316.9141 - mse: 16744156160.0000 - mae: 99316.9141\n",
            "Epoch 38/100\n",
            "13/13 [==============================] - 0s 2ms/step - loss: 91707.0000 - mse: 14264927232.0000 - mae: 91707.0000\n",
            "Epoch 39/100\n",
            "13/13 [==============================] - 0s 3ms/step - loss: 91509.5938 - mse: 14057353216.0000 - mae: 91509.5938\n",
            "Epoch 40/100\n",
            "13/13 [==============================] - 0s 2ms/step - loss: 102894.2891 - mse: 17276119040.0000 - mae: 102894.2891\n",
            "Epoch 41/100\n",
            "13/13 [==============================] - 0s 2ms/step - loss: 96674.1719 - mse: 15744755712.0000 - mae: 96674.1719\n",
            "Epoch 42/100\n",
            "13/13 [==============================] - 0s 2ms/step - loss: 104633.8594 - mse: 17491478528.0000 - mae: 104633.8594\n",
            "Epoch 43/100\n",
            "13/13 [==============================] - 0s 2ms/step - loss: 112747.0156 - mse: 19917434880.0000 - mae: 112747.0156\n",
            "Epoch 44/100\n",
            "13/13 [==============================] - 0s 2ms/step - loss: 85519.1172 - mse: 12554925056.0000 - mae: 85519.1172\n",
            "Epoch 45/100\n",
            "13/13 [==============================] - 0s 2ms/step - loss: 102494.5859 - mse: 16883393536.0000 - mae: 102494.5859\n",
            "Epoch 46/100\n",
            "13/13 [==============================] - 0s 2ms/step - loss: 99078.6719 - mse: 16259008512.0000 - mae: 99078.6719\n",
            "Epoch 47/100\n",
            "13/13 [==============================] - 0s 2ms/step - loss: 96572.2969 - mse: 15312450560.0000 - mae: 96572.2969\n",
            "Epoch 48/100\n",
            "13/13 [==============================] - 0s 2ms/step - loss: 102209.1016 - mse: 16589476864.0000 - mae: 102209.1016\n",
            "Epoch 49/100\n",
            "13/13 [==============================] - 0s 2ms/step - loss: 106070.9062 - mse: 18599524352.0000 - mae: 106070.9062\n",
            "Epoch 50/100\n",
            "13/13 [==============================] - 0s 2ms/step - loss: 90213.8281 - mse: 14027065344.0000 - mae: 90213.8281\n",
            "Epoch 51/100\n",
            "13/13 [==============================] - 0s 2ms/step - loss: 79888.6484 - mse: 11541992448.0000 - mae: 79888.6484\n",
            "Epoch 52/100\n",
            "13/13 [==============================] - 0s 3ms/step - loss: 108975.7969 - mse: 17919164416.0000 - mae: 108975.7969\n",
            "Epoch 53/100\n",
            "13/13 [==============================] - 0s 2ms/step - loss: 91797.9141 - mse: 13711868928.0000 - mae: 91797.9141\n",
            "Epoch 54/100\n",
            "13/13 [==============================] - 0s 2ms/step - loss: 84941.8984 - mse: 12820907008.0000 - mae: 84941.8984\n",
            "Epoch 55/100\n",
            "13/13 [==============================] - 0s 2ms/step - loss: 96760.1250 - mse: 15819328512.0000 - mae: 96760.1250\n",
            "Epoch 56/100\n",
            "13/13 [==============================] - 0s 2ms/step - loss: 89572.6172 - mse: 14040285184.0000 - mae: 89572.6172\n",
            "Epoch 57/100\n",
            "13/13 [==============================] - 0s 2ms/step - loss: 77773.9609 - mse: 10961074176.0000 - mae: 77773.9609\n",
            "Epoch 58/100\n",
            "13/13 [==============================] - 0s 2ms/step - loss: 109731.9062 - mse: 18416832512.0000 - mae: 109731.9062\n",
            "Epoch 59/100\n",
            "13/13 [==============================] - 0s 2ms/step - loss: 97169.7578 - mse: 15505714176.0000 - mae: 97169.7578\n",
            "Epoch 60/100\n",
            "13/13 [==============================] - 0s 4ms/step - loss: 101840.7969 - mse: 16368540672.0000 - mae: 101840.7969\n",
            "Epoch 61/100\n",
            "13/13 [==============================] - 0s 3ms/step - loss: 99096.3594 - mse: 15318469632.0000 - mae: 99096.3594\n",
            "Epoch 62/100\n",
            "13/13 [==============================] - 0s 3ms/step - loss: 90124.8906 - mse: 13921284096.0000 - mae: 90124.8906\n",
            "Epoch 63/100\n",
            "13/13 [==============================] - 0s 3ms/step - loss: 79608.9375 - mse: 10730272768.0000 - mae: 79608.9375\n",
            "Epoch 64/100\n",
            "13/13 [==============================] - 0s 4ms/step - loss: 85932.4688 - mse: 12430249984.0000 - mae: 85932.4688\n",
            "Epoch 65/100\n",
            "13/13 [==============================] - 0s 4ms/step - loss: 90246.8828 - mse: 12925448192.0000 - mae: 90246.8828\n",
            "Epoch 66/100\n",
            "13/13 [==============================] - 0s 4ms/step - loss: 107660.9375 - mse: 18450442240.0000 - mae: 107660.9375\n",
            "Epoch 67/100\n",
            "13/13 [==============================] - 0s 5ms/step - loss: 99614.0547 - mse: 16338619392.0000 - mae: 99614.0547\n",
            "Epoch 68/100\n",
            "13/13 [==============================] - 0s 3ms/step - loss: 105407.7656 - mse: 17465169920.0000 - mae: 105407.7656\n",
            "Epoch 69/100\n",
            "13/13 [==============================] - 0s 3ms/step - loss: 100055.6328 - mse: 15600640000.0000 - mae: 100055.6328\n",
            "Epoch 70/100\n",
            "13/13 [==============================] - 0s 3ms/step - loss: 85368.3828 - mse: 12322051072.0000 - mae: 85368.3828\n",
            "Epoch 71/100\n",
            "13/13 [==============================] - 0s 3ms/step - loss: 91540.5078 - mse: 14029999104.0000 - mae: 91540.5078\n",
            "Epoch 72/100\n",
            "13/13 [==============================] - 0s 3ms/step - loss: 94516.4297 - mse: 14570590208.0000 - mae: 94516.4297\n",
            "Epoch 73/100\n",
            "13/13 [==============================] - 0s 3ms/step - loss: 77546.5547 - mse: 10922672128.0000 - mae: 77546.5547\n",
            "Epoch 74/100\n",
            "13/13 [==============================] - 0s 3ms/step - loss: 95498.0156 - mse: 14672313344.0000 - mae: 95498.0156\n",
            "Epoch 75/100\n",
            "13/13 [==============================] - 0s 3ms/step - loss: 91839.5391 - mse: 13489735680.0000 - mae: 91839.5391\n",
            "Epoch 76/100\n",
            "13/13 [==============================] - 0s 3ms/step - loss: 87468.2734 - mse: 12631401472.0000 - mae: 87468.2734\n",
            "Epoch 77/100\n",
            "13/13 [==============================] - 0s 3ms/step - loss: 95249.9453 - mse: 15699304448.0000 - mae: 95249.9453\n",
            "Epoch 78/100\n",
            "13/13 [==============================] - 0s 3ms/step - loss: 95847.2188 - mse: 14200335360.0000 - mae: 95847.2188\n",
            "Epoch 79/100\n",
            "13/13 [==============================] - 0s 3ms/step - loss: 109264.4297 - mse: 18422646784.0000 - mae: 109264.4297\n",
            "Epoch 80/100\n",
            "13/13 [==============================] - 0s 3ms/step - loss: 97466.7031 - mse: 15193341952.0000 - mae: 97466.7031\n",
            "Epoch 81/100\n",
            "13/13 [==============================] - 0s 3ms/step - loss: 84261.7734 - mse: 12450782208.0000 - mae: 84261.7734\n",
            "Epoch 82/100\n",
            "13/13 [==============================] - 0s 3ms/step - loss: 94126.5781 - mse: 14814028800.0000 - mae: 94126.5781\n",
            "Epoch 83/100\n",
            "13/13 [==============================] - 0s 4ms/step - loss: 91459.1719 - mse: 13715486720.0000 - mae: 91459.1719\n",
            "Epoch 84/100\n",
            "13/13 [==============================] - 0s 3ms/step - loss: 91868.2422 - mse: 14438591488.0000 - mae: 91868.2422\n",
            "Epoch 85/100\n",
            "13/13 [==============================] - 0s 3ms/step - loss: 103251.3359 - mse: 17079514112.0000 - mae: 103251.3359\n",
            "Epoch 86/100\n",
            "13/13 [==============================] - 0s 3ms/step - loss: 111895.4062 - mse: 18758645760.0000 - mae: 111895.4062\n",
            "Epoch 87/100\n",
            "13/13 [==============================] - 0s 3ms/step - loss: 91445.7500 - mse: 13547792384.0000 - mae: 91445.7500\n",
            "Epoch 88/100\n",
            "13/13 [==============================] - 0s 3ms/step - loss: 86795.5078 - mse: 13415748608.0000 - mae: 86795.5078\n",
            "Epoch 89/100\n",
            "13/13 [==============================] - 0s 3ms/step - loss: 85859.4375 - mse: 12388201472.0000 - mae: 85859.4375\n",
            "Epoch 90/100\n",
            "13/13 [==============================] - 0s 3ms/step - loss: 97678.8047 - mse: 14583450624.0000 - mae: 97678.8047\n",
            "Epoch 91/100\n",
            "13/13 [==============================] - 0s 3ms/step - loss: 92884.5703 - mse: 14358050816.0000 - mae: 92884.5703\n",
            "Epoch 92/100\n",
            "13/13 [==============================] - 0s 3ms/step - loss: 89614.3828 - mse: 13854808064.0000 - mae: 89614.3828\n",
            "Epoch 93/100\n",
            "13/13 [==============================] - 0s 3ms/step - loss: 90959.3125 - mse: 13682977792.0000 - mae: 90959.3125\n",
            "Epoch 94/100\n",
            "13/13 [==============================] - 0s 2ms/step - loss: 93472.7656 - mse: 13975689216.0000 - mae: 93472.7656\n",
            "Epoch 95/100\n",
            "13/13 [==============================] - 0s 3ms/step - loss: 78710.2266 - mse: 10757840896.0000 - mae: 78710.2266\n",
            "Epoch 96/100\n",
            "13/13 [==============================] - 0s 3ms/step - loss: 75382.4609 - mse: 10255503360.0000 - mae: 75382.4609\n",
            "Epoch 97/100\n",
            "13/13 [==============================] - 0s 3ms/step - loss: 96327.1328 - mse: 14707094528.0000 - mae: 96327.1328\n",
            "Epoch 98/100\n",
            "13/13 [==============================] - 0s 3ms/step - loss: 84794.9688 - mse: 11965018112.0000 - mae: 84794.9688\n",
            "Epoch 99/100\n",
            "13/13 [==============================] - 0s 3ms/step - loss: 102638.8047 - mse: 15481292800.0000 - mae: 102638.8047\n",
            "Epoch 100/100\n",
            "13/13 [==============================] - 0s 2ms/step - loss: 95213.3281 - mse: 14456564736.0000 - mae: 95213.3281\n"
          ]
        },
        {
          "output_type": "execute_result",
          "data": {
            "text/plain": [
              "<keras.callbacks.History at 0x7e28348347c0>"
            ]
          },
          "metadata": {},
          "execution_count": 19
        }
      ]
    },
    {
      "cell_type": "code",
      "source": [
        "# Check the results of the model\n",
        "df.evaluate(X_test, y_test)"
      ],
      "metadata": {
        "colab": {
          "base_uri": "https://localhost:8080/"
        },
        "id": "j_YoZKbgaC0G",
        "outputId": "9974c3c9-b57f-4656-a93e-ef68807a4d72"
      },
      "execution_count": null,
      "outputs": [
        {
          "output_type": "stream",
          "name": "stdout",
          "text": [
            "4/4 [==============================] - 0s 8ms/step - loss: 120686.6094 - mse: 18374746112.0000 - mae: 120686.6094\n"
          ]
        },
        {
          "output_type": "execute_result",
          "data": {
            "text/plain": [
              "[120686.609375, 18374746112.0, 120686.609375]"
            ]
          },
          "metadata": {},
          "execution_count": 20
        }
      ]
    },
    {
      "cell_type": "markdown",
      "source": [
        "By increasing epochs by 90 and increasing another Dense layer, The MAE has reduced significantly"
      ],
      "metadata": {
        "id": "msN3uCNwaSpc"
      }
    },
    {
      "cell_type": "code",
      "source": [
        "# Set random seed\n",
        "tf.random.set_seed(42)\n",
        "\n",
        "# Create a new model\n",
        "df = tf.keras.Sequential([\n",
        "  tf.keras.layers.Dense(10),\n",
        "  tf.keras.layers.Dense(1)\n",
        "])\n",
        "\n",
        "# Compile the model\n",
        "df.compile(loss=tf.keras.losses.mae,\n",
        "                        optimizer=tf.keras.optimizers.Adam(),\n",
        "                        metrics=['mse', 'mae'])\n",
        "\n",
        "# Fit the model\n",
        "df.fit(X_train, y_train, epochs=100)"
      ],
      "metadata": {
        "colab": {
          "base_uri": "https://localhost:8080/"
        },
        "id": "lhRrFQSSaO4I",
        "outputId": "048f6ef4-336b-4c60-e371-e88a5db1254f"
      },
      "execution_count": null,
      "outputs": [
        {
          "output_type": "stream",
          "name": "stdout",
          "text": [
            "Epoch 1/100\n",
            "13/13 [==============================] - 1s 2ms/step - loss: 461762.0000 - mse: 241559994368.0000 - mae: 461762.0000\n",
            "Epoch 2/100\n",
            "13/13 [==============================] - 0s 2ms/step - loss: 461758.9062 - mse: 241557323776.0000 - mae: 461758.9062\n",
            "Epoch 3/100\n",
            "13/13 [==============================] - 0s 2ms/step - loss: 461755.8125 - mse: 241554636800.0000 - mae: 461755.8125\n",
            "Epoch 4/100\n",
            "13/13 [==============================] - 0s 2ms/step - loss: 461752.7188 - mse: 241551966208.0000 - mae: 461752.7188\n",
            "Epoch 5/100\n",
            "13/13 [==============================] - 0s 2ms/step - loss: 461749.5938 - mse: 241549180928.0000 - mae: 461749.5938\n",
            "Epoch 6/100\n",
            "13/13 [==============================] - 0s 2ms/step - loss: 461746.2812 - mse: 241546412032.0000 - mae: 461746.2812\n",
            "Epoch 7/100\n",
            "13/13 [==============================] - 0s 3ms/step - loss: 461743.0625 - mse: 241543544832.0000 - mae: 461743.0625\n",
            "Epoch 8/100\n",
            "13/13 [==============================] - 0s 2ms/step - loss: 461739.6250 - mse: 241540595712.0000 - mae: 461739.6250\n",
            "Epoch 9/100\n",
            "13/13 [==============================] - 0s 2ms/step - loss: 461736.0625 - mse: 241537466368.0000 - mae: 461736.0625\n",
            "Epoch 10/100\n",
            "13/13 [==============================] - 0s 2ms/step - loss: 461732.4062 - mse: 241534238720.0000 - mae: 461732.4062\n",
            "Epoch 11/100\n",
            "13/13 [==============================] - 0s 2ms/step - loss: 461728.5000 - mse: 241530880000.0000 - mae: 461728.5000\n",
            "Epoch 12/100\n",
            "13/13 [==============================] - 0s 2ms/step - loss: 461724.4375 - mse: 241527308288.0000 - mae: 461724.4375\n",
            "Epoch 13/100\n",
            "13/13 [==============================] - 0s 2ms/step - loss: 461720.1562 - mse: 241523605504.0000 - mae: 461720.1562\n",
            "Epoch 14/100\n",
            "13/13 [==============================] - 0s 2ms/step - loss: 461715.6875 - mse: 241519607808.0000 - mae: 461715.6875\n",
            "Epoch 15/100\n",
            "13/13 [==============================] - 0s 2ms/step - loss: 461710.9062 - mse: 241515446272.0000 - mae: 461710.9062\n",
            "Epoch 16/100\n",
            "13/13 [==============================] - 0s 2ms/step - loss: 461705.9062 - mse: 241511120896.0000 - mae: 461705.9062\n",
            "Epoch 17/100\n",
            "13/13 [==============================] - 0s 2ms/step - loss: 461700.6562 - mse: 241506549760.0000 - mae: 461700.6562\n",
            "Epoch 18/100\n",
            "13/13 [==============================] - 0s 2ms/step - loss: 461695.1875 - mse: 241501782016.0000 - mae: 461695.1875\n",
            "Epoch 19/100\n",
            "13/13 [==============================] - 0s 2ms/step - loss: 461689.4062 - mse: 241496702976.0000 - mae: 461689.4062\n",
            "Epoch 20/100\n",
            "13/13 [==============================] - 0s 2ms/step - loss: 461683.3438 - mse: 241491394560.0000 - mae: 461683.3438\n",
            "Epoch 21/100\n",
            "13/13 [==============================] - 0s 2ms/step - loss: 461676.9375 - mse: 241485840384.0000 - mae: 461676.9375\n",
            "Epoch 22/100\n",
            "13/13 [==============================] - 0s 2ms/step - loss: 461670.3438 - mse: 241480089600.0000 - mae: 461670.3438\n",
            "Epoch 23/100\n",
            "13/13 [==============================] - 0s 2ms/step - loss: 461663.3438 - mse: 241473978368.0000 - mae: 461663.3438\n",
            "Epoch 24/100\n",
            "13/13 [==============================] - 0s 2ms/step - loss: 461656.0625 - mse: 241467686912.0000 - mae: 461656.0625\n",
            "Epoch 25/100\n",
            "13/13 [==============================] - 0s 2ms/step - loss: 461648.5312 - mse: 241461035008.0000 - mae: 461648.5312\n",
            "Epoch 26/100\n",
            "13/13 [==============================] - 0s 2ms/step - loss: 461640.7188 - mse: 241454219264.0000 - mae: 461640.7188\n",
            "Epoch 27/100\n",
            "13/13 [==============================] - 0s 2ms/step - loss: 461632.5312 - mse: 241447092224.0000 - mae: 461632.5312\n",
            "Epoch 28/100\n",
            "13/13 [==============================] - 0s 2ms/step - loss: 461624.0312 - mse: 241439621120.0000 - mae: 461624.0312\n",
            "Epoch 29/100\n",
            "13/13 [==============================] - 0s 3ms/step - loss: 461615.2188 - mse: 241432018944.0000 - mae: 461615.2188\n",
            "Epoch 30/100\n",
            "13/13 [==============================] - 0s 2ms/step - loss: 461606.1875 - mse: 241424056320.0000 - mae: 461606.1875\n",
            "Epoch 31/100\n",
            "13/13 [==============================] - 0s 2ms/step - loss: 461596.6562 - mse: 241415815168.0000 - mae: 461596.6562\n",
            "Epoch 32/100\n",
            "13/13 [==============================] - 0s 2ms/step - loss: 461586.8125 - mse: 241407295488.0000 - mae: 461586.8125\n",
            "Epoch 33/100\n",
            "13/13 [==============================] - 0s 2ms/step - loss: 461576.7500 - mse: 241398464512.0000 - mae: 461576.7500\n",
            "Epoch 34/100\n",
            "13/13 [==============================] - 0s 2ms/step - loss: 461566.2812 - mse: 241389338624.0000 - mae: 461566.2812\n",
            "Epoch 35/100\n",
            "13/13 [==============================] - 0s 2ms/step - loss: 461555.4375 - mse: 241379999744.0000 - mae: 461555.4375\n",
            "Epoch 36/100\n",
            "13/13 [==============================] - 0s 2ms/step - loss: 461544.2812 - mse: 241370333184.0000 - mae: 461544.2812\n",
            "Epoch 37/100\n",
            "13/13 [==============================] - 0s 2ms/step - loss: 461532.7812 - mse: 241360338944.0000 - mae: 461532.7812\n",
            "Epoch 38/100\n",
            "13/13 [==============================] - 0s 2ms/step - loss: 461520.9375 - mse: 241349967872.0000 - mae: 461520.9375\n",
            "Epoch 39/100\n",
            "13/13 [==============================] - 0s 3ms/step - loss: 461508.7812 - mse: 241339416576.0000 - mae: 461508.7812\n",
            "Epoch 40/100\n",
            "13/13 [==============================] - 0s 3ms/step - loss: 461496.4375 - mse: 241328521216.0000 - mae: 461496.4375\n",
            "Epoch 41/100\n",
            "13/13 [==============================] - 0s 3ms/step - loss: 461483.6562 - mse: 241317494784.0000 - mae: 461483.6562\n",
            "Epoch 42/100\n",
            "13/13 [==============================] - 0s 3ms/step - loss: 461470.5625 - mse: 241305993216.0000 - mae: 461470.5625\n",
            "Epoch 43/100\n",
            "13/13 [==============================] - 0s 3ms/step - loss: 461457.0938 - mse: 241294311424.0000 - mae: 461457.0938\n",
            "Epoch 44/100\n",
            "13/13 [==============================] - 0s 3ms/step - loss: 461443.3125 - mse: 241282433024.0000 - mae: 461443.3125\n",
            "Epoch 45/100\n",
            "13/13 [==============================] - 0s 3ms/step - loss: 461429.3125 - mse: 241270276096.0000 - mae: 461429.3125\n",
            "Epoch 46/100\n",
            "13/13 [==============================] - 0s 3ms/step - loss: 461414.9688 - mse: 241257627648.0000 - mae: 461414.9688\n",
            "Epoch 47/100\n",
            "13/13 [==============================] - 0s 3ms/step - loss: 461400.2812 - mse: 241244864512.0000 - mae: 461400.2812\n",
            "Epoch 48/100\n",
            "13/13 [==============================] - 0s 4ms/step - loss: 461385.1562 - mse: 241231839232.0000 - mae: 461385.1562\n",
            "Epoch 49/100\n",
            "13/13 [==============================] - 0s 3ms/step - loss: 461369.8125 - mse: 241218355200.0000 - mae: 461369.8125\n",
            "Epoch 50/100\n",
            "13/13 [==============================] - 0s 4ms/step - loss: 461354.0625 - mse: 241204838400.0000 - mae: 461354.0625\n",
            "Epoch 51/100\n",
            "13/13 [==============================] - 0s 3ms/step - loss: 461338.0312 - mse: 241190862848.0000 - mae: 461338.0312\n",
            "Epoch 52/100\n",
            "13/13 [==============================] - 0s 3ms/step - loss: 461321.6250 - mse: 241176526848.0000 - mae: 461321.6250\n",
            "Epoch 53/100\n",
            "13/13 [==============================] - 0s 3ms/step - loss: 461304.9688 - mse: 241161994240.0000 - mae: 461304.9688\n",
            "Epoch 54/100\n",
            "13/13 [==============================] - 0s 3ms/step - loss: 461287.9062 - mse: 241147379712.0000 - mae: 461287.9062\n",
            "Epoch 55/100\n",
            "13/13 [==============================] - 0s 3ms/step - loss: 461270.6562 - mse: 241132142592.0000 - mae: 461270.6562\n",
            "Epoch 56/100\n",
            "13/13 [==============================] - 0s 3ms/step - loss: 461252.9375 - mse: 241116823552.0000 - mae: 461252.9375\n",
            "Epoch 57/100\n",
            "13/13 [==============================] - 0s 3ms/step - loss: 461235.0312 - mse: 241101225984.0000 - mae: 461235.0312\n",
            "Epoch 58/100\n",
            "13/13 [==============================] - 0s 3ms/step - loss: 461216.7500 - mse: 241085448192.0000 - mae: 461216.7500\n",
            "Epoch 59/100\n",
            "13/13 [==============================] - 0s 3ms/step - loss: 461198.1562 - mse: 241069260800.0000 - mae: 461198.1562\n",
            "Epoch 60/100\n",
            "13/13 [==============================] - 0s 3ms/step - loss: 461179.2500 - mse: 241052893184.0000 - mae: 461179.2500\n",
            "Epoch 61/100\n",
            "13/13 [==============================] - 0s 3ms/step - loss: 461160.0938 - mse: 241036181504.0000 - mae: 461160.0938\n",
            "Epoch 62/100\n",
            "13/13 [==============================] - 0s 3ms/step - loss: 461140.7812 - mse: 241019076608.0000 - mae: 461140.7812\n",
            "Epoch 63/100\n",
            "13/13 [==============================] - 0s 3ms/step - loss: 461120.9375 - mse: 241002135552.0000 - mae: 461120.9375\n",
            "Epoch 64/100\n",
            "13/13 [==============================] - 0s 3ms/step - loss: 461100.8750 - mse: 240984653824.0000 - mae: 461100.8750\n",
            "Epoch 65/100\n",
            "13/13 [==============================] - 0s 3ms/step - loss: 461080.5938 - mse: 240967073792.0000 - mae: 461080.5938\n",
            "Epoch 66/100\n",
            "13/13 [==============================] - 0s 3ms/step - loss: 461060.0000 - mse: 240949116928.0000 - mae: 461060.0000\n",
            "Epoch 67/100\n",
            "13/13 [==============================] - 0s 2ms/step - loss: 461039.0625 - mse: 240930930688.0000 - mae: 461039.0625\n",
            "Epoch 68/100\n",
            "13/13 [==============================] - 0s 2ms/step - loss: 461017.9062 - mse: 240912367616.0000 - mae: 461017.9062\n",
            "Epoch 69/100\n",
            "13/13 [==============================] - 0s 3ms/step - loss: 460996.2188 - mse: 240893624320.0000 - mae: 460996.2188\n",
            "Epoch 70/100\n",
            "13/13 [==============================] - 0s 3ms/step - loss: 460974.2812 - mse: 240874848256.0000 - mae: 460974.2812\n",
            "Epoch 71/100\n",
            "13/13 [==============================] - 0s 4ms/step - loss: 460952.2812 - mse: 240855711744.0000 - mae: 460952.2812\n",
            "Epoch 72/100\n",
            "13/13 [==============================] - 0s 3ms/step - loss: 460930.0312 - mse: 240836050944.0000 - mae: 460930.0312\n",
            "Epoch 73/100\n",
            "13/13 [==============================] - 0s 3ms/step - loss: 460907.2500 - mse: 240816603136.0000 - mae: 460907.2500\n",
            "Epoch 74/100\n",
            "13/13 [==============================] - 0s 3ms/step - loss: 460884.4688 - mse: 240796712960.0000 - mae: 460884.4688\n",
            "Epoch 75/100\n",
            "13/13 [==============================] - 0s 3ms/step - loss: 460861.2188 - mse: 240776347648.0000 - mae: 460861.2188\n",
            "Epoch 76/100\n",
            "13/13 [==============================] - 0s 3ms/step - loss: 460837.6562 - mse: 240756015104.0000 - mae: 460837.6562\n",
            "Epoch 77/100\n",
            "13/13 [==============================] - 0s 3ms/step - loss: 460813.9062 - mse: 240735453184.0000 - mae: 460813.9062\n",
            "Epoch 78/100\n",
            "13/13 [==============================] - 0s 3ms/step - loss: 460789.8125 - mse: 240714596352.0000 - mae: 460789.8125\n",
            "Epoch 79/100\n",
            "13/13 [==============================] - 0s 3ms/step - loss: 460765.5938 - mse: 240693493760.0000 - mae: 460765.5938\n",
            "Epoch 80/100\n",
            "13/13 [==============================] - 0s 3ms/step - loss: 460740.9375 - mse: 240671866880.0000 - mae: 460740.9375\n",
            "Epoch 81/100\n",
            "13/13 [==============================] - 0s 3ms/step - loss: 460716.1250 - mse: 240650289152.0000 - mae: 460716.1250\n",
            "Epoch 82/100\n",
            "13/13 [==============================] - 0s 3ms/step - loss: 460690.9062 - mse: 240628563968.0000 - mae: 460690.9062\n",
            "Epoch 83/100\n",
            "13/13 [==============================] - 0s 3ms/step - loss: 460665.4375 - mse: 240606560256.0000 - mae: 460665.4375\n",
            "Epoch 84/100\n",
            "13/13 [==============================] - 0s 3ms/step - loss: 460639.8750 - mse: 240584245248.0000 - mae: 460639.8750\n",
            "Epoch 85/100\n",
            "13/13 [==============================] - 0s 3ms/step - loss: 460613.9062 - mse: 240561635328.0000 - mae: 460613.9062\n",
            "Epoch 86/100\n",
            "13/13 [==============================] - 0s 3ms/step - loss: 460587.4062 - mse: 240538697728.0000 - mae: 460587.4062\n",
            "Epoch 87/100\n",
            "13/13 [==============================] - 0s 3ms/step - loss: 460560.9062 - mse: 240515579904.0000 - mae: 460560.9062\n",
            "Epoch 88/100\n",
            "13/13 [==============================] - 0s 3ms/step - loss: 460534.0625 - mse: 240492183552.0000 - mae: 460534.0625\n",
            "Epoch 89/100\n",
            "13/13 [==============================] - 0s 3ms/step - loss: 460506.9375 - mse: 240468934656.0000 - mae: 460506.9375\n",
            "Epoch 90/100\n",
            "13/13 [==============================] - 0s 3ms/step - loss: 460479.7188 - mse: 240445177856.0000 - mae: 460479.7188\n",
            "Epoch 91/100\n",
            "13/13 [==============================] - 0s 3ms/step - loss: 460452.1875 - mse: 240421404672.0000 - mae: 460452.1875\n",
            "Epoch 92/100\n",
            "13/13 [==============================] - 0s 3ms/step - loss: 460424.4688 - mse: 240397254656.0000 - mae: 460424.4688\n",
            "Epoch 93/100\n",
            "13/13 [==============================] - 0s 3ms/step - loss: 460396.4688 - mse: 240372924416.0000 - mae: 460396.4688\n",
            "Epoch 94/100\n",
            "13/13 [==============================] - 0s 3ms/step - loss: 460368.0938 - mse: 240348397568.0000 - mae: 460368.0938\n",
            "Epoch 95/100\n",
            "13/13 [==============================] - 0s 4ms/step - loss: 460339.5938 - mse: 240323346432.0000 - mae: 460339.5938\n",
            "Epoch 96/100\n",
            "13/13 [==============================] - 0s 4ms/step - loss: 460310.5938 - mse: 240298459136.0000 - mae: 460310.5938\n",
            "Epoch 97/100\n",
            "13/13 [==============================] - 0s 4ms/step - loss: 460281.4062 - mse: 240273162240.0000 - mae: 460281.4062\n",
            "Epoch 98/100\n",
            "13/13 [==============================] - 0s 3ms/step - loss: 460252.1875 - mse: 240247947264.0000 - mae: 460252.1875\n",
            "Epoch 99/100\n",
            "13/13 [==============================] - 0s 3ms/step - loss: 460222.6875 - mse: 240222322688.0000 - mae: 460222.6875\n",
            "Epoch 100/100\n",
            "13/13 [==============================] - 0s 3ms/step - loss: 460192.9688 - mse: 240196501504.0000 - mae: 460192.9688\n"
          ]
        },
        {
          "output_type": "execute_result",
          "data": {
            "text/plain": [
              "<keras.callbacks.History at 0x7e2834522530>"
            ]
          },
          "metadata": {},
          "execution_count": 21
        }
      ]
    },
    {
      "cell_type": "code",
      "source": [
        "# Check the results of the model\n",
        "df.evaluate(X_test, y_test)"
      ],
      "metadata": {
        "colab": {
          "base_uri": "https://localhost:8080/"
        },
        "id": "1xzWXRHTagpF",
        "outputId": "06075408-d1aa-465b-b230-40eb37f2d46e"
      },
      "execution_count": null,
      "outputs": [
        {
          "output_type": "stream",
          "name": "stdout",
          "text": [
            "4/4 [==============================] - 0s 5ms/step - loss: 423141.0938 - mse: 201095741440.0000 - mae: 423141.0938\n"
          ]
        },
        {
          "output_type": "execute_result",
          "data": {
            "text/plain": [
              "[423141.09375, 201095741440.0, 423141.09375]"
            ]
          },
          "metadata": {},
          "execution_count": 22
        }
      ]
    },
    {
      "cell_type": "markdown",
      "source": [
        "Changing the optimizer from SGD To Adam worsened the MAE\n",
        "So, our second model is the closest the truth value and hence the best model"
      ],
      "metadata": {
        "id": "KmkziJF3a5aK"
      }
    },
    {
      "cell_type": "code",
      "source": [],
      "metadata": {
        "id": "9TJzII1-a25q"
      },
      "execution_count": null,
      "outputs": []
    }
  ]
}